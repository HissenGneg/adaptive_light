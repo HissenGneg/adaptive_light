{
 "cells": [
  {
   "cell_type": "code",
   "execution_count": 11,
   "metadata": {},
   "outputs": [],
   "source": [
    "import numpy as np\n",
    "import math"
   ]
  },
  {
   "cell_type": "code",
   "execution_count": 12,
   "metadata": {},
   "outputs": [],
   "source": [
    "full_cell_voltage=4.2\n",
    "no_cells=6\n",
    "\n",
    "full_battery_voltage=full_cell_voltage*no_cells\n",
    "\n",
    "charge_current=2.5 # 1.3Ah battery, ~2C charge rate, well under rated max of 5C\n",
    "\n",
    "I_L_max=10"
   ]
  },
  {
   "cell_type": "code",
   "execution_count": 13,
   "metadata": {},
   "outputs": [
    {
     "name": "stdout",
     "output_type": "stream",
     "text": [
      "rmax ration=0.6800000000000004\n"
     ]
    }
   ],
   "source": [
    "vout=full_cell_voltage*1.1\n",
    "Rmax1_over_Rmax2=((vout)/2.75)-1\n",
    "print(f\"rmax ratio={Rmax1_over_Rmax2}\")"
   ]
  },
  {
   "cell_type": "code",
   "execution_count": 14,
   "metadata": {},
   "outputs": [
    {
     "name": "stdout",
     "output_type": "stream",
     "text": [
      "RsenseA=RsenseB=5.0mOhm\n"
     ]
    }
   ],
   "source": [
    "RsenseAB=0.05/I_L_max\n",
    "print(f\"RsenseA=RsenseB={RsenseAB*1000}mOhm\")"
   ]
  },
  {
   "cell_type": "code",
   "execution_count": 17,
   "metadata": {},
   "outputs": [
    {
     "name": "stdout",
     "output_type": "stream",
     "text": [
      "CsensB=5.0nF\n"
     ]
    }
   ],
   "source": [
    "CsensB=1e-9/RsenseAB\n",
    "print(f\"CsensB={RsenseAB*1000}nF\")"
   ]
  },
  {
   "cell_type": "code",
   "execution_count": 19,
   "metadata": {},
   "outputs": [
    {
     "name": "stdout",
     "output_type": "stream",
     "text": [
      "rfb ratio=0.6800000000000002\n"
     ]
    }
   ],
   "source": [
    "vfloat=full_cell_voltage\n",
    "rfloat=((vfloat)/2.5)-1\n",
    "print(f\"rfb ratio={rfloat}\")"
   ]
  }
 ],
 "metadata": {
  "kernelspec": {
   "display_name": "Python 3",
   "language": "python",
   "name": "python3"
  },
  "language_info": {
   "codemirror_mode": {
    "name": "ipython",
    "version": 3
   },
   "file_extension": ".py",
   "mimetype": "text/x-python",
   "name": "python",
   "nbconvert_exporter": "python",
   "pygments_lexer": "ipython3",
   "version": "3.12.0"
  }
 },
 "nbformat": 4,
 "nbformat_minor": 2
}
