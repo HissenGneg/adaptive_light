{
 "cells": [
  {
   "cell_type": "code",
   "execution_count": 19,
   "metadata": {},
   "outputs": [],
   "source": [
    "import math\n",
    "import numpy as np"
   ]
  },
  {
   "cell_type": "code",
   "execution_count": 20,
   "metadata": {},
   "outputs": [],
   "source": [
    "Vinmax=30\n",
    "Vinmin=20\n",
    "\n",
    "Vout_1_mainLED=12\n",
    "Iout_1_mainLED=1\n",
    "Vout_2_redLED=4*2.5\n",
    "Iout_2_redLED=0.5\n",
    "Vout_3_amberLED=4*2.3\n",
    "Iout_3_amberLED=0.14\n",
    "\n",
    "Vfb_ref=0.099\n",
    "\n",
    "f_SW=1e6\n",
    "tSW=1/f_SW\n",
    "tSW_us=tSW*1e6"
   ]
  },
  {
   "cell_type": "code",
   "execution_count": 21,
   "metadata": {},
   "outputs": [
    {
     "name": "stdout",
     "output_type": "stream",
     "text": [
      "L1=14.399999999999999uH\n",
      "I_L_ripple1=0.5A\n",
      "I_L_peak1=1.25A\n",
      "R_fb1=99.0mOhm\n"
     ]
    }
   ],
   "source": [
    "L_1=(Vout_1_mainLED*(Vinmax-Vout_1_mainLED))/(Vinmax*0.5*Iout_1_mainLED*f_SW)\n",
    "I_L_ripple1=(Vout_1_mainLED*(Vinmax-Vout_1_mainLED))/(Vinmax*L_1*f_SW)\n",
    "I_L_peak1=Iout_1_mainLED+(I_L_ripple1/2)\n",
    "R_sense1=Vfb_ref/Iout_1_mainLED\n",
    "\n",
    "print(f\"L1={L_1*1e6}uH\")\n",
    "print(f\"I_L_ripple1={I_L_ripple1}A\")\n",
    "print(f\"I_L_peak1={I_L_peak1}A\")\n",
    "print(f\"R_fb1={R_sense1*1e3}mOhm\")"
   ]
  },
  {
   "cell_type": "code",
   "execution_count": 22,
   "metadata": {},
   "outputs": [
    {
     "name": "stdout",
     "output_type": "stream",
     "text": [
      "L2=26.666666666666668uH\n",
      "I_L_ripple2=0.25A\n",
      "I_L_peak2=0.625A\n",
      "R_fb2=198.0mOhm\n"
     ]
    }
   ],
   "source": [
    "L_2=(Vout_2_redLED*(Vinmax-Vout_2_redLED))/(Vinmax*0.5*Iout_2_redLED*f_SW)\n",
    "I_L_ripple2=(Vout_2_redLED*(Vinmax-Vout_2_redLED))/(Vinmax*L_2*f_SW)\n",
    "I_L_peak2=Iout_2_redLED+(I_L_ripple2/2)\n",
    "R_sense2=Vfb_ref/Iout_2_redLED\n",
    "\n",
    "print(f\"L2={L_2*1e6}uH\")\n",
    "print(f\"I_L_ripple2={I_L_ripple2}A\")\n",
    "print(f\"I_L_peak2={I_L_peak2}A\")\n",
    "print(f\"R_fb2={R_sense2*1e3}mOhm\")"
   ]
  },
  {
   "cell_type": "code",
   "execution_count": 23,
   "metadata": {},
   "outputs": [
    {
     "name": "stdout",
     "output_type": "stream",
     "text": [
      "L3=91.12380952380951uH\n",
      "I_L_ripple3=0.07A\n",
      "I_L_peak3=0.17500000000000002A\n",
      "R_fb3=707.1428571428571mOhm\n"
     ]
    }
   ],
   "source": [
    "L_3=(Vout_3_amberLED*(Vinmax-Vout_3_amberLED))/(Vinmax*0.5*Iout_3_amberLED*f_SW)\n",
    "I_L_ripple3=(Vout_3_amberLED*(Vinmax-Vout_3_amberLED))/(Vinmax*L_3*f_SW)\n",
    "I_L_peak3=Iout_3_amberLED+(I_L_ripple3/2)\n",
    "R_sense3=Vfb_ref/Iout_3_amberLED\n",
    "\n",
    "print(f\"L3={L_3*1e6}uH\")\n",
    "print(f\"I_L_ripple3={I_L_ripple3}A\")\n",
    "print(f\"I_L_peak3={I_L_peak3}A\")\n",
    "print(f\"R_fb3={R_sense3*1e3}mOhm\")"
   ]
  }
 ],
 "metadata": {
  "kernelspec": {
   "display_name": "Python 3",
   "language": "python",
   "name": "python3"
  },
  "language_info": {
   "codemirror_mode": {
    "name": "ipython",
    "version": 3
   },
   "file_extension": ".py",
   "mimetype": "text/x-python",
   "name": "python",
   "nbconvert_exporter": "python",
   "pygments_lexer": "ipython3",
   "version": "3.12.0"
  }
 },
 "nbformat": 4,
 "nbformat_minor": 2
}
